{
  "cells": [
    {
      "cell_type": "markdown",
      "metadata": {
        "id": "x9hGPjlRJ5DQ"
      },
      "source": [
        "\n",
        "\n",
        " <img src = \"https://upload.wikimedia.org/wikipedia/commons/c/ca/Escudo-UNAM-escalable.svg\" width=\"200\" height=\"250\" align=\"left\"/>\n",
        "\n",
        "  <img src = \"https://upload.wikimedia.org/wikipedia/commons/5/5b/Escudo-facultad-ciencias-unam-escalable.svg\" width=\"200\" height=\"250\" align=\"right\"/>\n",
        "\n",
        "\n",
        "\n",
        "# <center> <font color='red'> **Ecuaciones Diferenciales 1**  </font> </center>\n",
        "### <center>  <font color='red'>Semestre 2024-2 </font>\n",
        "---\n",
        "---\n",
        "# <center>  <font color='blue'> Proyecto Numérico 2: </font>\n",
        "\n",
        "## <center>  <font color='blue'> Método de Euler para la solución numérica de EDOs de primer orden </font>\n",
        " ### <center> Juan Carlos Fernández\n",
        "\n",
        "   <center>Departamento de Matemáticas,\n",
        "\n",
        "   <center>Facultad de Ciencias, UNAM </center>\n",
        "\n",
        "   (Proyecto elaborado por Félix Camacho)\n",
        "\n",
        "---\n",
        "---\n",
        "\n",
        "\n",
        "\n",
        "\n",
        "---\n",
        "\n"
      ]
    },
    {
      "cell_type": "markdown",
      "metadata": {
        "id": "GWuC6q3j8H5u"
      },
      "source": [
        "INSTRUCCIONES: Nombra este documento como ```ProyectoEDO_Apellido.ipynb```, donde el apellido es el apellido de la persona que lo entrgue y súbelo al post correspondiente con los nombres de los miembros del equipo que pueden escribir aquí:\n",
        "\n",
        "1.\n",
        "\n",
        "\n",
        "\n",
        "2.\n",
        "\n",
        "\n",
        "3.\n",
        "\n",
        "\n",
        "4.\n",
        "\n",
        "5.\n",
        "\n",
        "6.\n",
        "\n",
        "\n",
        "\n",
        "# **No se aceptarán códigos en otro tipo de archivo (por ejemplo, .py).**\n",
        "\n",
        "En el siguiente documento, se explica un método para aproximar ecuaciones diferenciales ordinarias."
      ]
    },
    {
      "cell_type": "markdown",
      "metadata": {
        "id": "VNBfErSokpoe"
      },
      "source": [
        "\n",
        "# <center>  **Método de Euler**  </center>\n",
        "\n",
        "Como hemos visto, no siempre es posible calcular una solución explícita para una ecuación diferencial. ¿Cómo podemos averiguar el comportamiento de la solución sin resolverla explícitamente?\n",
        "\n",
        "El propósito de este proyecto es utilizar un método numérico para el cálculo de valores aproximados de la solución utilizando librerías básicas de Python:\n",
        "\n",
        "\n",
        "*   math para ciertas expresiones simbólicas\n",
        "\n",
        "*   numpy para utilizar arreglos matriciales y vectoriales de números\n",
        "\n",
        "*   matplotlib.pyplot para graficar nuestros resultados\n",
        "\n",
        "Partiendo de nuestro problema de valores iniciales\n",
        "$$\n",
        "\\frac{d x}{d t}=f(t, x), \\quad x\\left(t_0\\right)=x_0\n",
        "$$\n",
        "Supongamos la existencia de soluciones en el intervalo $\\left[t_0, t_0+\\alpha\\right]$, donde $\\alpha>0$ se puede calcular mediante el Teorema de Existencia y Unicidad. Con esto, generemos una partición regular del intervalo $[t_0,t_o+\\alpha]$:\n",
        "$$\n",
        "t_0<t_1<t_2<\\cdots<t_N=t_0+\\alpha,\n",
        "$$\n",
        "donde $N\\in\\mathbb{N}$ y\n",
        "$$\n",
        "t_{k}:=t_0+k h, \\qquad h:=\\frac{\\alpha}{N},\n",
        "$$\n",
        "de tal manera que tengamos incrementos regulares a nuestra función:\n",
        "$$\n",
        "t_{k+1}=t_k+h\n",
        "$$\n",
        "\n",
        "Lo que haremos es aproximar los valores de $x(t_k)$, digamos por valores $x_1,\\ldots,x_N$, y definir una función lineal entre ellos, que será la aproximación de nuestra solución.\n",
        "\n",
        "Por el momento, supongamos que ya tenemos definidos los valores aproximados $x_1,\\ldots,x_N$. La función continua, lineal por tramos que aproxima nuestra solución será entonces $\\hat{x}:[t_0,t_0+\\alpha]\\rightarrow\\mathbb{R}$ dada por\n",
        "\n",
        "\n",
        "$$\n",
        "\\hat{x}(t)=x_j+1 / h \\left(t-t_j\\right)\\left(x_{j+1}-x_j\\right), \\quad t_j \\leqslant t \\leqslant t_{j+1}   \\tag 1\n",
        "$$\n",
        "\n",
        "Notemos que $x$ así definida cumple las condiciones de aproximación que buscamos, puesto que\n",
        "\n",
        "$$\n",
        "\\begin{aligned}\n",
        "\\hat{x}\\left(t_j\\right) & =x_j+1 / h\\underbrace{\\left(t_j-t_j\\right)}_{=0}\\left(x_{j+1}-x_j\\right)=x_j \\\\\n",
        "\\hat{x}\\left(t_{j+1}\\right) & =x_j+1 / h \\underbrace{\\left(t_{j+1}-t_j\\right.}_{=h})\\left(x_{j+1}-x_j\\right) \\\\\n",
        "& =x_j+\\left(x_{j+1}-x_j\\right)=x_{j+1}\n",
        "\\end{aligned}\n",
        "$$\n",
        "\n",
        "Entonces, si las diferencias $\\left|x\\left(t_j\\right)-\\hat{x}\\left(t_j\\right)\\right|=\\left|x\\left(t_j\\right)-x_j\\right|$ son lo suficientemente pequeñas, la continuidad de $x$ y $\\hat x$ implicará que $|x(t)-\\hat{x}(t)|$ es pequeño para todo el intervalo $\\left[t_j, t_{j+1}\\right]$ siempre que $N$ sea suficientemente grande.\n",
        "\n",
        "Estamos aproximando así a $x$ usando funciones lineales a trozos, las cuales son relativamente sencillas de calcular, siempre que podamos computar $x_1,...,x_N$ con precisión suficente.\n",
        "\n",
        "\n",
        "¿Cómo calculamos los valores $x_j$?\n",
        "\n",
        "Usando que $x$ es de clase $C^1$ y satisface el problema de valores iniciales\n",
        "\n",
        "$$\n",
        "\\frac{d x}{d t}(t)=f(t, x(t)), \\quad x(t_0)=x_0,\n",
        "$$\n",
        "\n",
        "podemos aplicar una expansión de Taylor de primer orden alrededor de $t_k$ para obtener\n",
        "\n",
        "$$\n",
        "x\\left(t_{k+1}\\right) = x\\left(t_{k} + h\\right) \\approx x\\left(t_k\\right)+\\frac{d x}{d t}\\left(t_k\\right) h.\n",
        "$$\n",
        "\n",
        "Pero\n",
        "\n",
        "$$\n",
        "\\frac{d x}{d t}\\left(t_k\\right)=f\\left(t_k, x\\left(t_k\\right)\\right),\n",
        "$$\n",
        "\n",
        "y al sustituir obtenemos\n",
        "\n",
        "\\begin{equation}\n",
        "x\\left(t_{k+1}\\right) \\approx x\\left(t_k\\right)+h f\\left(t_k, x\\left(t_k\\right)\\right),\n",
        "\\end{equation}\n",
        "\n",
        "obteniendo una fórmula recursiva para calcular el valor aproximado de $x(t_{k+1})$ a través del valor aproximado de $x(t_k)$. De esta manera, partiendo del valor inicial $x(t_0)=x_0$, podemos calcular los valores $x_k\\approx x(t_k)$ como sigue:\n",
        "\n",
        "$$\n",
        "x\\left(t_1\\right) \\approx x_0+h f\\left(t_0, x_0\\right)=: x_1\n",
        "$$\n",
        "\n",
        "para valores subsecuentes de $x$ hacemos:\n",
        "$$\n",
        "x\\left(t_2\\right) \\approx x\\left(t_1\\right)+h t\\left(t_1, x\\left(t_1\\right)\\right) \\approx x_1+h\\left(t_1, x_1\\right):=x_2\n",
        "$$\n",
        "luego\n",
        "$$\n",
        "x\\left(t_{k+1}\\right) \\approx x\\left(t_k\\right)+h f\\left(t_k, x\\left(t_k\\right)\\right) \\approx x_k+h f\\left(t_k, x_k\\right)=: x_{k+1}.\n",
        "$$\n",
        "\n",
        "Obtenemos así el siguiente esquema recursivo para los valores $x_k$\n",
        "$$\n",
        "x_{k+1}=x_k+h f\\left(t_k, x_k\\right),\\quad x_0=x\\left(t_0\\right),\\quad k=1,\\ldots,N. \\tag 2\n",
        "$$\n",
        "\n",
        "\n",
        "\n",
        "\n"
      ]
    },
    {
      "cell_type": "markdown",
      "metadata": {
        "id": "jz4-kdb_td0X"
      },
      "source": [
        "# EJERCICIO\n",
        "\n",
        "Vamos a trabajar con el siguiente ejemplo concreto: consideremos la ecuación diferencial con condiciones iniciales\n",
        "\n",
        "$$x'(t) = 1 + (x - t)^2, \\quad x(0)=1/2$$\n",
        "\n",
        "1. (0.5 puntos) Usando el teorema de existencia y unicidad, da valores para a=b=1 como en el teorema y calcula el valor de $\\alpha$ tal que el problema tiene solución única en un intervalo $[-\\alpha,\\alpha]$.\n"
      ]
    },
    {
      "cell_type": "markdown",
      "metadata": {
        "id": "sBMsOK8duJ3z"
      },
      "source": [
        "<font color='cian'> (ESCRIBE AQUÍ TU RESPUESTA O EN UN PDF ANEXO)\n",
        "\n",
        "\n",
        "</font>"
      ]
    },
    {
      "cell_type": "markdown",
      "metadata": {
        "id": "8hKljIKwSrdu"
      },
      "source": [
        "\n",
        "2. (0.5 puntos) Importa las librerias ```math, numpy``` y ```matplot.lib``` necesarias para el proyecto"
      ]
    },
    {
      "cell_type": "code",
      "execution_count": null,
      "metadata": {
        "id": "KlyTnO8QkqkV"
      },
      "outputs": [],
      "source": [
        "# ESCRIBE AQUÍ TU RESPUESTA\n",
        "\n",
        "import math\n",
        "import numpy as np\n",
        "import matplotlib.pyplot as plt"
      ]
    },
    {
      "cell_type": "markdown",
      "metadata": {},
      "source": [
        "3. (1 punto) Haciendo uso de la función quiver vista en clase dibuja el campo de pendientes de la ecuación dada en el ejercicio 1. en el cuadrado $[-1,1]\\times[-1,1]$ (recuerda el campo vectorial que define al campo de pendientes). Compara lo que estas viendo con la $\\alpha$ que encontraste en el inciso anterior.\n",
        "\n",
        "Nota que visualmente parece que la solución debe estar definida más allá del intervalo que nos garantiza el Teorema de Existencia y Unicidad. Moraleja: TEU no nos dice el intervalo óptimo para encontrar nuestras soluciones.\n"
      ]
    },
    {
      "cell_type": "code",
      "execution_count": null,
      "metadata": {},
      "outputs": [],
      "source": [
        "# ESCRIBE AQUÍ TU RESPUESTA"
      ]
    },
    {
      "cell_type": "markdown",
      "metadata": {
        "id": "TDEC5XfRyBkf"
      },
      "source": [
        "4. (1 punto) Para $N$ arbitrario, haz una partición del intervalo $[0,1]$ usando las herramientas que conoces de ```numpy```"
      ]
    },
    {
      "cell_type": "code",
      "execution_count": null,
      "metadata": {
        "id": "RK1juj1nyRza"
      },
      "outputs": [],
      "source": [
        "# ESCRIBE AQUÍ TU RESPUESTA"
      ]
    },
    {
      "cell_type": "markdown",
      "metadata": {
        "id": "2Y1E8GdCyZiG"
      },
      "source": [
        "5. (1 punto) Define la función $f(t,x)= 1 + (x-t)^2$ como una función de Python, que se pueda evaluar en cualquier $(t,x)\\in\\mathbb{R}^2$."
      ]
    },
    {
      "cell_type": "code",
      "execution_count": null,
      "metadata": {
        "id": "mjRYqJ5pyYoL"
      },
      "outputs": [],
      "source": [
        " # ESCRIBE AQUÍ TU RESPUESTA"
      ]
    },
    {
      "cell_type": "markdown",
      "metadata": {
        "id": "ZN18hDbpy66c"
      },
      "source": [
        "6. (2 puntos) Utilizando el equema iteartivo (2), realiza un algoritmo para calcular los puntos $x_0,\\ldots,x_N$."
      ]
    },
    {
      "cell_type": "code",
      "execution_count": null,
      "metadata": {
        "id": "nUjysTQ5znm-"
      },
      "outputs": [],
      "source": [
        "# ESCRIBE AQUÍ TU RESPUESTA"
      ]
    },
    {
      "cell_type": "markdown",
      "metadata": {
        "id": "SIflRDJlzm6o"
      },
      "source": [
        "7. (3 puntos) Usando la definición (1) y los valores que obtuviste en el inciso anterior, escribe un código para construir una solución aproximada $\\hat{x}$ como una función de Python definida en $[0,1]$ y grafícala usando la herramienta de ```matplotlib.pyplot``` que corresponda."
      ]
    },
    {
      "cell_type": "code",
      "execution_count": null,
      "metadata": {
        "id": "nTo7zUNg6J2l"
      },
      "outputs": [],
      "source": [
        "# ESCRIBE AQUÍ TU RESPUESTA"
      ]
    },
    {
      "cell_type": "markdown",
      "metadata": {
        "id": "a2dlAN5AvOj9"
      },
      "source": [
        "8. (1 punto) El problema admite la solución exacta\n",
        "$$\n",
        "x(t)=t+ \\frac{1} {2-t}.\n",
        "$$\n",
        "Grafica tu solución para tres distintos valores de $N$ junto con la gráfica de la solución aproximada, y observa cómo se van pareciendo cada vez más las soluciones."
      ]
    },
    {
      "cell_type": "code",
      "execution_count": null,
      "metadata": {
        "id": "v3czZe9I7Nw0"
      },
      "outputs": [],
      "source": [
        "# ESCRIBE AQUÍ TU RESPUESTA"
      ]
    }
  ],
  "metadata": {
    "colab": {
      "provenance": []
    },
    "kernelspec": {
      "display_name": "Python 3",
      "name": "python3"
    },
    "language_info": {
      "name": "python"
    }
  },
  "nbformat": 4,
  "nbformat_minor": 0
}
